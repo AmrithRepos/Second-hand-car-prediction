#impoting all the libraries
import pandas as pd
import matplotlib.pyplot as plt
import seaborn as sns
import numpy as np

df = pd.read_csv(r"C:\Users\amrit\OneDrive\Documents\Web Scrapping\CAR DETAILS FROM CAR DEKHO.csv")

df.head()

df.describe()

df.info()

#Checking if there is any null values 

df.isnull().sum()

#checking the distributin of all the categorical datas
print(df.fuel.value_counts())
print(df.seller_type.value_counts())
print(df.transmission.value_counts())
print(df.owner.value_counts())

# Encoding all the categorical data

df.replace({'fuel':{'Diesel': 0 , 'Petrol' : 1, 'CNG' : 2, 'LPG':3,'Electric':4}}, inplace=True)
df.replace({'seller_type':{'Dealer': 0 , 'Individual' : 1, 'Trustmark Dealer' : 2}}, inplace=True)
df.replace({'transmission':{'Manual': 0 , 'Automatic' : 1}}, inplace=True)
df.replace({'owner':{'First Owner': 0 , 'Second Owner' : 1, 'Third Owner': 2, 'Fourth & Above Owner': 3, 'Test Drive Car': 4}}, inplace=True)

df

#Splitting the data and the target

X = df.drop(['name', 'selling_price'], axis = 1)
y = df['selling_price']

print(X)

print(y)

from sklearn.model_selection import train_test_split
from sklearn.linear_model import LinearRegression

#Splliting the data into test ans train
test_X, train_X , test_y, train_y = train_test_split(X, y , test_size = 0.1, random_state = 2)

# Loading the linear regression model
lin_reg_model = LinearRegression()
lin_reg_model.fit(train_X,train_y)


# taking the training data for prediction
training_data_prediction = lin_reg_model.predict(train_X)

# Calculating the r squared error
from sklearn import metrics
error_score = metrics.r2_score(train_y, training_data_prediction)
print("R squared Error : ", error_score)

#Visualzing the actual prediction
plt.scatter(train_y, training_data_prediction)
plt.xlabel("Actual Price")
plt.ylabel("Predicted Price")
plt.title(" Actual Prices vs Predicted Prices")
plt.show()

# predicting on Training data
test_data_prediction = lin_reg_model.predict(test_X)

plt.scatter(test_y, test_data_prediction)
plt.xlabel("Actual Price")
plt.ylabel("Predicted Price")
plt.title(" Actual Prices vs Predicted Prices")
plt.show()

